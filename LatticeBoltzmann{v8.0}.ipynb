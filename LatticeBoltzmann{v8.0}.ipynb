{
 "cells": [
  {
   "cell_type": "code",
   "execution_count": 33,
   "metadata": {
    "collapsed": true
   },
   "outputs": [],
   "source": [
    "import numpy as np\n",
    "import matplotlib.pyplot as plt\n",
    "from matplotlib import cm\n",
    "from math import pi,cos,sin\n",
    "import os \n",
    "newpath = 'images' \n",
    "if not os.path.exists(newpath):\n",
    "    os.makedirs(newpath)"
   ]
  },
  {
   "cell_type": "markdown",
   "metadata": {},
   "source": [
    "# Creating the grid and the corresponding constants\n"
   ]
  },
  {
   "cell_type": "markdown",
   "metadata": {},
   "source": [
    "In this section of the code the grid is constructed with some of the essential constants for the simulation."
   ]
  },
  {
   "cell_type": "code",
   "execution_count": 34,
   "metadata": {
    "collapsed": false
   },
   "outputs": [],
   "source": [
    "nx = 150                           # Amount of grid points x direction.\n",
    "ny = 60                            # \"                   \" y direction.\n",
    "a  = 0.0004                        # Acceleration at each timestep. Should be kept low. \n",
    "time = 200                         # Amount of timesteps.\n",
    "tau  = 2\n",
    "\n",
    "# Construction of 9 direction for the use of d2q9 model and assignment of the appropriate weights.\n",
    "q  = 9\n",
    "c  = np.zeros((2,q), dtype='int')\n",
    "c[0, 1:q] = np.round(np.cos(np.linspace(0, (2*pi - 2*pi/q), q-1)))\n",
    "c[1, 1:q] = np.round(np.sin(np.linspace(0, (2*pi - 2*pi/q), q-1)))\n",
    "\n",
    "weights = 1/9*np.ones(q)\n",
    "weights[0] = 4/9\n",
    "weights[2::2] = 1/36               # Sets all even weights other than 0."
   ]
  },
  {
   "cell_type": "markdown",
   "metadata": {},
   "source": [
    "# Objects "
   ]
  },
  {
   "cell_type": "markdown",
   "metadata": {},
   "source": [
    "In this section the objects that can be placed in the flow are created. You can choose to place a line or a block. The dimensions of the object can be changed and the location of the object.   "
   ]
  },
  {
   "cell_type": "code",
   "execution_count": 35,
   "metadata": {
    "collapsed": true
   },
   "outputs": [],
   "source": [
    "# Object in flow: choose 'block' for a block and 'line' for a line \n",
    "obj = 'block'\n",
    "# Diminsions and location of object \n",
    "center = [nx/2, ny/2] # Center coordinates of the object \n",
    "width  = 10\n",
    "length = 10\n",
    "# Locations of the block/line: rectangle ABCD/line AD\n",
    "locA   = np.int_([center[0] - width/2, center[1] - length/2]) # Left under coordinate\n",
    "locB   = np.int_([center[0] + width/2, center[1] - length/2]) # Right under coordinate\n",
    "locC   = np.int_([center[0] + width/2, center[1] + length/2]) # Right top coordinate\n",
    "locD   = np.int_([center[0] - width/2, center[1] + length/2]) # Left top coordinate"
   ]
  },
  {
   "cell_type": "markdown",
   "metadata": {},
   "source": [
    "# Simulation "
   ]
  },
  {
   "cell_type": "markdown",
   "metadata": {},
   "source": [
    "In this section the simulation starts. It will create every 10 time steps an image of the velocity profile in the cylinder."
   ]
  },
  {
   "cell_type": "code",
   "execution_count": 36,
   "metadata": {
    "collapsed": false
   },
   "outputs": [
    {
     "data": {
      "text/plain": [
       "<matplotlib.figure.Figure at 0x10af7bf60>"
      ]
     },
     "metadata": {},
     "output_type": "display_data"
    }
   ],
   "source": [
    "# Initialisation of the densities ni at all points and for all directions i.\n",
    "n   = np.zeros((nx,ny,q), dtype='float')                \n",
    "neq = np.zeros((nx,ny,q), dtype='float')\n",
    "n[:, :, 0] = 1                     # Only the 0 direction (at rest) is set to nonzero.\n",
    "\n",
    "# Start of the time evolution algorithm.\n",
    "for t in range(time):\n",
    "\n",
    "    # All densities are moved to the appropriate neighbour by rolling the density matrix along the x and y axis when\n",
    "    # appropriate. The directions stored in c indicate when this is appropriate. This also applies a periodic boundary\n",
    "    # condition at the inlet and outlet.\n",
    "    for i in range(1, q):\n",
    "        n[:, :, i] = np.roll(n[:, :, i], c[0, i], axis = 0)\n",
    "        n[:, :, i] = np.roll(n[:, :, i], c[1, i], axis = 1)\n",
    "\n",
    "    # At the boundaries the direction are inversed by rolling the matrix (except the 0 direction) in the q direction\n",
    "    # for 4 places. This implements a no slip condition by forcing the average velocity to be 0.\n",
    "    n[:, 0,    1:q] = np.roll(n[:, 0,    1:q], round((q-1) / 2), axis = 1)\n",
    "    n[:, ny-1, 1:q] = np.roll(n[:, ny-1, 1:q], round((q-1) / 2), axis = 1)\n",
    "    # Boundaries at the object, in this case a block\n",
    "    if obj == 'block':\n",
    "        n[locA[0], locA[1]:locD[1], 1:q] = np.roll(n[locA[0], locA[1]:locD[1], 1:q], round((q-1)/2), axis = 1)\n",
    "        n[locB[0], locB[1]:locC[1], 1:q] = np.roll(n[locB[0], locB[1]:locC[1], 1:q], round((q-1)/2), axis = 1)\n",
    "        n[locA[0]:locB[0], locA[1], 1:q] = np.roll(n[locA[0]:locB[0], locA[1], 1:q], round((q-1)/2), axis = 1)\n",
    "        n[locD[0]:locC[0], locD[1], 1:q] = np.roll(n[locD[0]:locC[0], locD[1], 1:q], round((q-1)/2), axis = 1)\n",
    "    if obj == 'line':\n",
    "        n[locA[0],locA[1]:locD[1],1:q] = np.roll(n[locA[0],locA[1]:locD[1],1:q], round((q-1)/2), axis = 1)\n",
    "\n",
    "    # Calculation of local 'total' density and local average velocity.\n",
    "    rho = np.sum(n, axis = 2)\n",
    "    u = [np.sum(n*c[0, :], axis = 2), np.sum(n*c[1,:], axis = 2)] / rho\n",
    "\n",
    "    # The average velocity is increased along the x-direction to implement the pressure driving the flow.\n",
    "    u[0] += a \n",
    "\n",
    "    # Calculation of the equilibrium densities for each direction at each location using the formula for d2q9.\n",
    "    cdotu = np.inner(c.transpose(), u.transpose()).transpose()\n",
    "    udotu = u[1]**2 + u[0]**2\n",
    "    for i in range(q):\n",
    "        neq[:, :, i] = weights[i] * rho * (1 + 3*cdotu[:,:,i] + 9/2*cdotu[:,:,i]**2 - 3/2*udotu)\n",
    "\n",
    "    # Relaxation of the densities towards the equilibrium distribution. This models the collision interaction in the fluid,\n",
    "    # the viscous effect.\n",
    "    n = n - (1/tau)*(n-neq)\n",
    "    \n",
    "    if (t%10 == 0): # Visualization: The image is saved every 10 time steps \n",
    "        plt.imshow(np.sqrt(u[0]**2 + u[1]**2).transpose(), cmap=cm.RdBu)\n",
    "        plt.title('Lattice Boltzmann simulated flow ')\n",
    "        plt.colorbar()\n",
    "        plt.savefig(\"images/vel_line.\"+str(t/10).zfill(4)+\".png\")\n",
    "        plt.clf()"
   ]
  }
 ],
 "metadata": {
  "kernelspec": {
   "display_name": "Python 3",
   "language": "python",
   "name": "python3"
  },
  "language_info": {
   "codemirror_mode": {
    "name": "ipython",
    "version": 3
   },
   "file_extension": ".py",
   "mimetype": "text/x-python",
   "name": "python",
   "nbconvert_exporter": "python",
   "pygments_lexer": "ipython3",
   "version": "3.5.1"
  }
 },
 "nbformat": 4,
 "nbformat_minor": 0
}
